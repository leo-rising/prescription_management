{
 "cells": [
  {
   "cell_type": "code",
   "execution_count": null,
   "metadata": {},
   "outputs": [],
   "source": [
    "pip install mysql-connector-python"
   ]
  },
  {
   "cell_type": "code",
   "execution_count": null,
   "metadata": {},
   "outputs": [],
   "source": [
    "import mysql.connector\n",
    " \n",
    "mydb = mysql.connector.connect(\n",
    "  host=\"localhost\",\n",
    "  user=\"root\",\n",
    "  password=\"GundralaPK98\"   #REPLACE THIS WITH THE PASSWORD YOU SET\n",
    ")\n",
    " \n",
    "print(mydb)\n",
    " \n",
    "if mydb.is_connected():\n",
    "    print(\"CONNECTION SUCCESSFUL\")\n"
   ]
  },
  {
   "cell_type": "code",
   "execution_count": null,
   "metadata": {},
   "outputs": [],
   "source": [
    "#create a database\n",
    "mycursor = mydb.cursor()\n",
    "\n",
    "mycursor.execute(\"CREATE DATABASE hospital\")"
   ]
  },
  {
   "cell_type": "code",
   "execution_count": null,
   "metadata": {},
   "outputs": [],
   "source": [
    "mycursor = mydb.cursor()\n",
    "mycursor.execute(\"CREATE TABLE hospital.physicians (SSN CHAR(11) PRIMARY KEY, name VARCHAR(128), primary_speciality VARCHAR(128), experience_years NUMERIC(2,0))\")\n",
    "\n",
    "mycursor.execute(\"CREATE TABLE hospital.patients (SSN CHAR(11) PRIMARY KEY, name VARCHAR(128), address VARCHAR(255), birth_date VARCHAR(128), physician_ID CHAR(11), FOREIGN KEY(physician_ID) REFERENCES hospital.physicians(SSN))\")\n",
    "\n",
    "mycursor.execute(\"CREATE TABLE hospital.pharmacies (ID NUMERIC(3,0) PRIMARY KEY, name VARCHAR(128), address VARCHAR(255),phone VARCHAR(20))\")\n",
    "\n",
    "mycursor.execute(\"CREATE TABLE hospital.drugs (ID NUMERIC(3,0), name VARCHAR(128) PRIMARY KEY)\")"
   ]
  },
  {
   "cell_type": "code",
   "execution_count": null,
   "metadata": {},
   "outputs": [],
   "source": [
    "mycursor.execute(\"\"\"CREATE TABLE hospital.prescriptions (ID NUMERIC(3,0) PRIMARY KEY, patient_ID CHAR(11), \n",
    "physician_ID CHAR(11), drug_name VARCHAR(128),\n",
    "date VARCHAR(128), quantity NUMERIC(3,0),\n",
    "FOREIGN KEY(patient_ID) REFERENCES hospital.patients(SSN),\n",
    "FOREIGN KEY(physician_ID) REFERENCES hospital.physicians(SSN),\n",
    "FOREIGN KEY(drug_name) REFERENCES hospital.drugs(name))\"\"\")"
   ]
  },
  {
   "cell_type": "code",
   "execution_count": null,
   "metadata": {},
   "outputs": [],
   "source": [
    "mycursor.execute(\"\"\"CREATE TABLE hospital.adverse_interactions (drug_name_1 VARCHAR(128), \n",
    "drug_name_2 VARCHAR(128), PRIMARY KEY (drug_name_1, drug_name_2),\n",
    "FOREIGN KEY(drug_name_1) REFERENCES hospital.drugs(name),\n",
    "FOREIGN KEY(drug_name_2) REFERENCES hospital.drugs(name))\"\"\")"
   ]
  },
  {
   "cell_type": "code",
   "execution_count": null,
   "metadata": {},
   "outputs": [],
   "source": [
    "mycursor.execute(\"\"\"CREATE TABLE hospital.alerts (patient_ID CHAR(11), physician_ID CHAR(11),\n",
    "alert_date VARCHAR(128), drug1 VARCHAR(128), drug2 VARCHAR(128),\n",
    "PRIMARY KEY (patient_ID, drug1, drug2),\n",
    "FOREIGN KEY(patient_ID) REFERENCES hospital.patients(SSN),\n",
    "FOREIGN KEY(physician_ID) REFERENCES hospital.physicians(SSN))\"\"\")"
   ]
  },
  {
   "cell_type": "code",
   "execution_count": null,
   "metadata": {},
   "outputs": [],
   "source": [
    "mycursor.execute(\"\"\"CREATE TABLE hospital.pharmacy_fills (prescription_ID NUMERIC(3,0),\n",
    "pharmacy_ID NUMERIC(3,0), date VARCHAR(128), cost NUMERIC(6,2),\n",
    "PRIMARY KEY(prescription_ID, pharmacy_ID),\n",
    "FOREIGN KEY(prescription_ID) REFERENCES hospital.prescriptions(ID),\n",
    "FOREIGN KEY(pharmacy_ID) REFERENCES hospital.pharmacies(ID))\"\"\")"
   ]
  },
  {
   "cell_type": "code",
   "execution_count": null,
   "metadata": {},
   "outputs": [],
   "source": [
    "mycursor.execute(\"\"\"CREATE TABLE hospital.companies (ID NUMERIC(3,0) PRIMARY KEY, name VARCHAR(128), address VARCHAR(255),\n",
    "contact_phone VARCHAR(20), contact_name VARCHAR(128))\"\"\")"
   ]
  },
  {
   "cell_type": "code",
   "execution_count": null,
   "metadata": {},
   "outputs": [],
   "source": [
    "mycursor.execute(\"\"\"CREATE TABLE hospital.contracts (ID NUMERIC(3,0) PRIMARY KEY, drug_name VARCHAR(128), \n",
    "dosage NUMERIC(5,0), pharmacy_ID NUMERIC(3,0), company_ID NUMERIC(3,0), quantity NUMERIC(3,0), date VARCHAR(128),\n",
    "price NUMERIC(6,2),\n",
    "FOREIGN KEY(drug_name) REFERENCES hospital.drugs(name),\n",
    "FOREIGN KEY(pharmacy_ID) REFERENCES hospital.pharmacies(ID),\n",
    "FOREIGN KEY(company_ID) REFERENCES hospital.companies(ID))\"\"\")"
   ]
  },
  {
   "cell_type": "code",
   "execution_count": null,
   "metadata": {},
   "outputs": [],
   "source": [
    "mycursor.execute(\"\"\"ALTER TABLE hospital.prescriptions\n",
    "ADD INDEX idx_patient_drug (patient_ID, drug_name)\"\"\")\n",
    "\n",
    "mycursor.execute(\"\"\"ALTER TABLE hospital.alerts\n",
    "ADD CONSTRAINT fk_alerts_prescriptions\n",
    "FOREIGN KEY (patient_ID, drug1)\n",
    "REFERENCES hospital.prescriptions (patient_ID, drug_name)\"\"\")\n",
    "\n",
    "mycursor.execute(\"\"\"ALTER TABLE hospital.alerts\n",
    "ADD CONSTRAINT fk_alerts_prescriptions_2\n",
    "FOREIGN KEY (patient_ID, drug2)\n",
    "REFERENCES hospital.prescriptions (patient_ID, drug_name)\"\"\")"
   ]
  }
 ],
 "metadata": {
  "language_info": {
   "name": "python"
  }
 },
 "nbformat": 4,
 "nbformat_minor": 2
}
